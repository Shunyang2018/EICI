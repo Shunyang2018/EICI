{
 "cells": [
  {
   "cell_type": "markdown",
   "id": "d9e98eae",
   "metadata": {},
   "source": [
    "### We fake the CI-MS as input in SIRIUS and predict formula"
   ]
  },
  {
   "cell_type": "code",
   "execution_count": 116,
   "id": "510622dd",
   "metadata": {},
   "outputs": [],
   "source": [
    "import pandas as pd\n",
    "import os\n",
    "import re\n",
    "def adduct_clean(string):\n",
    "    if string == '[M + H]+':\n",
    "        return '[M+H]+'\n",
    "    elif string == '[M]+':\n",
    "        return '[M]+'\n",
    "    elif string == '[M - H2 + H]+':\n",
    "        return '[M-H]+'\n",
    "    else:\n",
    "        return 'others'\n",
    "    \n",
    "def formula2dict(formula):\n",
    "    lst = re.findall(r'[A-Z][a-z]*|\\d+', re.sub('[A-Z][a-z]*(?![\\da-z])', r'\\g<0>1', formula))\n",
    "    res_dct = {lst[i]: int(lst[i + 1]) for i in range(0, len(lst), 2)}\n",
    "    return res_dct\n",
    "def formula2dictH(formula):\n",
    "    lst = re.findall(r'[A-Z][a-z]*|\\d+', re.sub('[A-Z][a-z]*(?![\\da-z])', r'\\g<0>1', formula))\n",
    "    res_dct = {lst[i]: int(lst[i + 1]) for i in range(0, len(lst), 2)}\n",
    "    res_dct['H'] = res_dct['H']+1\n",
    "    return res_dct\n",
    "def calculate_mass(formula: str):\n",
    "    #from yuanyue\n",
    "    \n",
    "    mol_mass = 0.\n",
    "    try:\n",
    "        all_atom_nums = re.findall('([A-Z][a-z]*)([0-9]*)', formula)\n",
    "        for atom_num in all_atom_nums:\n",
    "            n = atom_num[1]\n",
    "            if n == '':\n",
    "                mol_mass += atom_mass[atom_num[0]]\n",
    "            else:\n",
    "                mol_mass += int(n) * atom_mass[atom_num[0]]\n",
    "    except KeyError as e:\n",
    "        print(\"Atom {} is not known\".format(e.args[0]))\n",
    "    except TypeError:\n",
    "        print('formula is nan')\n",
    "    return round(mol_mass,6)"
   ]
  },
  {
   "cell_type": "code",
   "execution_count": 117,
   "id": "ffbfc122",
   "metadata": {},
   "outputs": [],
   "source": [
    "atom_mass = {'H': 1.00782503223,\n",
    "             'C': 12,\n",
    "             'N': 14.00307400443,\n",
    "             'O': 15.99491461957,\n",
    "             'F': 18.99840316273,\n",
    "             'P': 30.97376199842,\n",
    "             'S': 31.9720711744,\n",
    "             'Cl': 34.968852682,\n",
    "             'Ar': 39.9623831237,\n",
    "             'K': 38.9637064864,\n",
    "             'Ca': 39.962590863,\n",
    "             'Si': 27.976926535,\n",
    "             'Na':22.98976928\n",
    "             }"
   ]
  },
  {
   "cell_type": "code",
   "execution_count": 118,
   "id": "ee682b10",
   "metadata": {},
   "outputs": [],
   "source": [
    "formula = pd.read_csv('./test/filter_all.csv')"
   ]
  },
  {
   "cell_type": "code",
   "execution_count": 119,
   "id": "9994f8eb",
   "metadata": {},
   "outputs": [
    {
     "data": {
      "text/html": [
       "<div>\n",
       "<style scoped>\n",
       "    .dataframe tbody tr th:only-of-type {\n",
       "        vertical-align: middle;\n",
       "    }\n",
       "\n",
       "    .dataframe tbody tr th {\n",
       "        vertical-align: top;\n",
       "    }\n",
       "\n",
       "    .dataframe thead th {\n",
       "        text-align: right;\n",
       "    }\n",
       "</style>\n",
       "<table border=\"1\" class=\"dataframe\">\n",
       "  <thead>\n",
       "    <tr style=\"text-align: right;\">\n",
       "      <th></th>\n",
       "      <th>index</th>\n",
       "      <th>name</th>\n",
       "      <th>inchikey</th>\n",
       "      <th>formula</th>\n",
       "      <th>ionization</th>\n",
       "      <th>precursormz</th>\n",
       "    </tr>\n",
       "  </thead>\n",
       "  <tbody>\n",
       "    <tr>\n",
       "      <th>0</th>\n",
       "      <td>0</td>\n",
       "      <td>norvaline</td>\n",
       "      <td>SNDPXSYFESPGGJ-BYPYZUCNSA-N</td>\n",
       "      <td>C8H19N1O2Si1</td>\n",
       "      <td>[M+H]+</td>\n",
       "      <td>190.12618</td>\n",
       "    </tr>\n",
       "    <tr>\n",
       "      <th>1</th>\n",
       "      <td>1</td>\n",
       "      <td>norvaline</td>\n",
       "      <td>SNDPXSYFESPGGJ-BYPYZUCNSA-N</td>\n",
       "      <td>C11H27N1O2Si2</td>\n",
       "      <td>[M+H]+</td>\n",
       "      <td>262.16580</td>\n",
       "    </tr>\n",
       "    <tr>\n",
       "      <th>2</th>\n",
       "      <td>2</td>\n",
       "      <td>glucosamine 1</td>\n",
       "      <td>MSWZFWKMSRAUBD-QZABAPFNSA-N</td>\n",
       "      <td>C18H45N1O5Si4</td>\n",
       "      <td>[M+H]+</td>\n",
       "      <td>468.24448</td>\n",
       "    </tr>\n",
       "    <tr>\n",
       "      <th>3</th>\n",
       "      <td>3</td>\n",
       "      <td>glucosamine 1</td>\n",
       "      <td>MSWZFWKMSRAUBD-QZABAPFNSA-N</td>\n",
       "      <td>C18H45N1O5Si4</td>\n",
       "      <td>[M-H]+</td>\n",
       "      <td>466.22788</td>\n",
       "    </tr>\n",
       "    <tr>\n",
       "      <th>4</th>\n",
       "      <td>4</td>\n",
       "      <td>indole-3-propionic acid</td>\n",
       "      <td>GOLXRNDWAUTYKT-UHFFFAOYSA-N</td>\n",
       "      <td>C17H27N1O2Si2</td>\n",
       "      <td>[M+H]+</td>\n",
       "      <td>334.16495</td>\n",
       "    </tr>\n",
       "    <tr>\n",
       "      <th>...</th>\n",
       "      <td>...</td>\n",
       "      <td>...</td>\n",
       "      <td>...</td>\n",
       "      <td>...</td>\n",
       "      <td>...</td>\n",
       "      <td>...</td>\n",
       "    </tr>\n",
       "    <tr>\n",
       "      <th>628</th>\n",
       "      <td>628</td>\n",
       "      <td>(water loss)4-Hydroxymandelonitrile</td>\n",
       "      <td>HOOOPXDSCKBLFG-UHFFFAOYSA-N</td>\n",
       "      <td>C11H13N1O1Si1</td>\n",
       "      <td>[M-H]+</td>\n",
       "      <td>202.07201</td>\n",
       "    </tr>\n",
       "    <tr>\n",
       "      <th>629</th>\n",
       "      <td>629</td>\n",
       "      <td>4-Hydroxymandelonitrile</td>\n",
       "      <td>HOOOPXDSCKBLFG-UHFFFAOYSA-N</td>\n",
       "      <td>C14H23N1O2Si2</td>\n",
       "      <td>[M]+</td>\n",
       "      <td>293.12494</td>\n",
       "    </tr>\n",
       "    <tr>\n",
       "      <th>630</th>\n",
       "      <td>630</td>\n",
       "      <td>(water loss)4-Hydroxymandelonitrile</td>\n",
       "      <td>HOOOPXDSCKBLFG-UHFFFAOYSA-N</td>\n",
       "      <td>C11H13N1O1Si1</td>\n",
       "      <td>[M-H]+</td>\n",
       "      <td>202.07201</td>\n",
       "    </tr>\n",
       "    <tr>\n",
       "      <th>631</th>\n",
       "      <td>631</td>\n",
       "      <td>4-Hydroxymandelonitrile</td>\n",
       "      <td>HOOOPXDSCKBLFG-UHFFFAOYSA-N</td>\n",
       "      <td>C14H23N1O2Si2</td>\n",
       "      <td>[M]+</td>\n",
       "      <td>293.12494</td>\n",
       "    </tr>\n",
       "    <tr>\n",
       "      <th>632</th>\n",
       "      <td>632</td>\n",
       "      <td>(water loss)4-Hydroxymandelonitrile</td>\n",
       "      <td>HOOOPXDSCKBLFG-UHFFFAOYSA-N</td>\n",
       "      <td>C11H13N1O1Si1</td>\n",
       "      <td>[M-H]+</td>\n",
       "      <td>202.07201</td>\n",
       "    </tr>\n",
       "  </tbody>\n",
       "</table>\n",
       "<p>633 rows × 6 columns</p>\n",
       "</div>"
      ],
      "text/plain": [
       "     index                                 name                     inchikey  \\\n",
       "0        0                            norvaline  SNDPXSYFESPGGJ-BYPYZUCNSA-N   \n",
       "1        1                            norvaline  SNDPXSYFESPGGJ-BYPYZUCNSA-N   \n",
       "2        2                        glucosamine 1  MSWZFWKMSRAUBD-QZABAPFNSA-N   \n",
       "3        3                        glucosamine 1  MSWZFWKMSRAUBD-QZABAPFNSA-N   \n",
       "4        4              indole-3-propionic acid  GOLXRNDWAUTYKT-UHFFFAOYSA-N   \n",
       "..     ...                                  ...                          ...   \n",
       "628    628  (water loss)4-Hydroxymandelonitrile  HOOOPXDSCKBLFG-UHFFFAOYSA-N   \n",
       "629    629              4-Hydroxymandelonitrile  HOOOPXDSCKBLFG-UHFFFAOYSA-N   \n",
       "630    630  (water loss)4-Hydroxymandelonitrile  HOOOPXDSCKBLFG-UHFFFAOYSA-N   \n",
       "631    631              4-Hydroxymandelonitrile  HOOOPXDSCKBLFG-UHFFFAOYSA-N   \n",
       "632    632  (water loss)4-Hydroxymandelonitrile  HOOOPXDSCKBLFG-UHFFFAOYSA-N   \n",
       "\n",
       "           formula ionization  precursormz  \n",
       "0     C8H19N1O2Si1     [M+H]+    190.12618  \n",
       "1    C11H27N1O2Si2     [M+H]+    262.16580  \n",
       "2    C18H45N1O5Si4     [M+H]+    468.24448  \n",
       "3    C18H45N1O5Si4     [M-H]+    466.22788  \n",
       "4    C17H27N1O2Si2     [M+H]+    334.16495  \n",
       "..             ...        ...          ...  \n",
       "628  C11H13N1O1Si1     [M-H]+    202.07201  \n",
       "629  C14H23N1O2Si2       [M]+    293.12494  \n",
       "630  C11H13N1O1Si1     [M-H]+    202.07201  \n",
       "631  C14H23N1O2Si2       [M]+    293.12494  \n",
       "632  C11H13N1O1Si1     [M-H]+    202.07201  \n",
       "\n",
       "[633 rows x 6 columns]"
      ]
     },
     "execution_count": 119,
     "metadata": {},
     "output_type": "execute_result"
    }
   ],
   "source": [
    "formula"
   ]
  },
  {
   "cell_type": "markdown",
   "id": "4f2c2674",
   "metadata": {},
   "source": [
    "### Read SIRIUS result"
   ]
  },
  {
   "cell_type": "code",
   "execution_count": 120,
   "id": "ca117761",
   "metadata": {},
   "outputs": [],
   "source": [
    "path = './SIRIUS_filter/' #_correct_Mass"
   ]
  },
  {
   "cell_type": "code",
   "execution_count": null,
   "id": "99ba4fd2",
   "metadata": {
    "scrolled": true
   },
   "outputs": [],
   "source": [
    "rank_list = []\n",
    "name = []\n",
    "adductformula = []\n",
    "for directory in os.listdir(path):\n",
    "    \n",
    "    #directory = '0_annotate_all_1'\n",
    "    \n",
    "    if 'filter' in directory:\n",
    "        \n",
    "        print(directory)\n",
    "        index = int(re.findall(r'\\d+',directory)[0])\n",
    "        name.append(index)\n",
    "        try:\n",
    "            predict = pd.read_csv(path+directory+'/formula_candidates.tsv', sep='\\t')\n",
    "            key = formula[formula['index'] == int(index)] # get the key row from forumla\n",
    "            predict['ionization'] = predict['adduct'].apply(adduct_clean)\n",
    "            predict[predict['ionization'] == key.ionization.item()]\n",
    "            if key.ionization.item() != '[M]+':\n",
    "                predict['dict'] = predict['molecularFormula'].apply(formula2dict)\n",
    "            else:\n",
    "                predict['dict'] = predict['molecularFormula'].apply(formula2dictH)\n",
    "                predict = predict[predict['molecularFormula'].str.contains('Si')].reset_index(drop=True)\n",
    "            keydict = formula2dict(key['formula'].item())\n",
    "            rank = predict.index[predict['dict'] == keydict].to_list()\n",
    "            if rank:\n",
    "                rank_list.append(rank[0])\n",
    "                adductformula.append(predict['precursorFormula'][rank[0]])\n",
    "            else:\n",
    "                rank_list.append('no correct formula')   # in sirius result \n",
    "                adductformula.append('no correct formula')\n",
    "        except FileNotFoundError:\n",
    "            rank_list.append('nan') # didn't calculate in sirius gui\n",
    "            adductformula.append('nan')\n",
    "        except TypeError:\n",
    "            rank_list.append('no key formula')\n",
    "            adductformula.append('no key formula')\n",
    "\n",
    "    "
   ]
  },
  {
   "cell_type": "code",
   "execution_count": 123,
   "id": "ab3f67b3",
   "metadata": {},
   "outputs": [],
   "source": [
    "df = pd.DataFrame({'rank':rank_list, 'index':name}) #,'adductformula':adductformula"
   ]
  },
  {
   "cell_type": "code",
   "execution_count": 124,
   "id": "d8f34423",
   "metadata": {},
   "outputs": [],
   "source": [
    "formula = formula.merge(df,on='index',how='left')"
   ]
  },
  {
   "cell_type": "code",
   "execution_count": 125,
   "id": "e6a314e8",
   "metadata": {},
   "outputs": [],
   "source": [
    "formula.to_csv('rank_filter.csv')"
   ]
  },
  {
   "cell_type": "code",
   "execution_count": 126,
   "id": "8643e0ca",
   "metadata": {
    "scrolled": true
   },
   "outputs": [
    {
     "data": {
      "text/plain": [
       "0                     373\n",
       "1                      91\n",
       "no correct formula     71\n",
       "2                      33\n",
       "4                      19\n",
       "3                      17\n",
       "5                      12\n",
       "8                       7\n",
       "6                       6\n",
       "7                       3\n",
       "9                       1\n",
       "Name: rank, dtype: int64"
      ]
     },
     "execution_count": 126,
     "metadata": {},
     "output_type": "execute_result"
    }
   ],
   "source": [
    "formula['rank'].value_counts()"
   ]
  }
 ],
 "metadata": {
  "kernelspec": {
   "display_name": "Python 3 (ipykernel)",
   "language": "python",
   "name": "python3"
  },
  "language_info": {
   "codemirror_mode": {
    "name": "ipython",
    "version": 3
   },
   "file_extension": ".py",
   "mimetype": "text/x-python",
   "name": "python",
   "nbconvert_exporter": "python",
   "pygments_lexer": "ipython3",
   "version": "3.9.13"
  },
  "varInspector": {
   "cols": {
    "lenName": 16,
    "lenType": 16,
    "lenVar": 40
   },
   "kernels_config": {
    "python": {
     "delete_cmd_postfix": "",
     "delete_cmd_prefix": "del ",
     "library": "var_list.py",
     "varRefreshCmd": "print(var_dic_list())"
    },
    "r": {
     "delete_cmd_postfix": ") ",
     "delete_cmd_prefix": "rm(",
     "library": "var_list.r",
     "varRefreshCmd": "cat(var_dic_list()) "
    }
   },
   "types_to_exclude": [
    "module",
    "function",
    "builtin_function_or_method",
    "instance",
    "_Feature"
   ],
   "window_display": false
  }
 },
 "nbformat": 4,
 "nbformat_minor": 5
}
